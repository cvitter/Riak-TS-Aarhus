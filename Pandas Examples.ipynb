{
 "cells": [
  {
   "cell_type": "code",
   "execution_count": null,
   "metadata": {
    "collapsed": false
   },
   "outputs": [],
   "source": [
    "from riak import RiakClient\n",
    "client = RiakClient(transport_options={'ts_convert_timestamp': True})"
   ]
  },
  {
   "cell_type": "code",
   "execution_count": null,
   "metadata": {
    "collapsed": false
   },
   "outputs": [],
   "source": [
    "query = \"\"\"\n",
    "SELECT avgMeasuredTime, avgSpeed, medianMeasuredTime, vehicleCount, ts\n",
    "    FROM aarhus WHERE ts > '2014-02-13 00:00:00' AND ts < '2014-04-12 23:59:59' AND\n",
    "    status = 'OK' AND extid= '668';\n",
    "\"\"\"\n",
    "print query\n",
    "ds = client.ts_query('aarhus', query)"
   ]
  },
  {
   "cell_type": "code",
   "execution_count": null,
   "metadata": {
    "collapsed": true
   },
   "outputs": [],
   "source": [
    "import pandas as pd"
   ]
  },
  {
   "cell_type": "code",
   "execution_count": null,
   "metadata": {
    "collapsed": true
   },
   "outputs": [],
   "source": [
    "df = pd.DataFrame(ds.rows)"
   ]
  },
  {
   "cell_type": "code",
   "execution_count": null,
   "metadata": {
    "collapsed": false
   },
   "outputs": [],
   "source": [
    "print df.head()\n",
    "# avgMeasuredTime | avgSpeed | medianMeasuredTime | vehicleCount | ts (timestamp)"
   ]
  },
  {
   "cell_type": "code",
   "execution_count": null,
   "metadata": {
    "collapsed": false
   },
   "outputs": [],
   "source": [
    "print df.describe()\n",
    "# avgMeasuredTime | avgSpeed | medianMeasuredTime | vehicleCount"
   ]
  },
  {
   "cell_type": "code",
   "execution_count": null,
   "metadata": {
    "collapsed": false
   },
   "outputs": [],
   "source": [
    "query = \"\"\"\n",
    "SELECT * FROM aarhus WHERE \n",
    "    ts > '2014-02-13 00:00:00' AND ts < '2014-04-12 23:59:59' AND\n",
    "    status = 'OK' AND extid= '668';\n",
    "\"\"\"\n",
    "print query\n",
    "ds = client.ts_query('aarhus', query)\n",
    "df = pd.DataFrame(ds.rows)"
   ]
  },
  {
   "cell_type": "code",
   "execution_count": null,
   "metadata": {
    "collapsed": true
   },
   "outputs": [],
   "source": [
    "%matplotlib inline\n",
    "import matplotlib as plt"
   ]
  },
  {
   "cell_type": "code",
   "execution_count": null,
   "metadata": {
    "collapsed": false
   },
   "outputs": [],
   "source": [
    "ax=df.plot(x=2, y=6, figsize=(7,7))\n",
    "ax.set_ylabel('Vehicle count per 5 mins', fontsize=18)\n",
    "ax.set_xlabel('Date/time', fontsize=18)"
   ]
  },
  {
   "cell_type": "code",
   "execution_count": null,
   "metadata": {
    "collapsed": true
   },
   "outputs": [],
   "source": []
  }
 ],
 "metadata": {
  "kernelspec": {
   "display_name": "Python 2",
   "language": "python",
   "name": "python2"
  },
  "language_info": {
   "codemirror_mode": {
    "name": "ipython",
    "version": 2
   },
   "file_extension": ".py",
   "mimetype": "text/x-python",
   "name": "python",
   "nbconvert_exporter": "python",
   "pygments_lexer": "ipython2",
   "version": "2.7.11"
  }
 },
 "nbformat": 4,
 "nbformat_minor": 0
}
