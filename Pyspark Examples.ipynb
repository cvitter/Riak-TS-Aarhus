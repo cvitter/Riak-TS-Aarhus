{
 "cells": [
  {
   "cell_type": "code",
   "execution_count": 1,
   "metadata": {
    "collapsed": false
   },
   "outputs": [
    {
     "name": "stdout",
     "output_type": "stream",
     "text": [
      "Using: '/Users/cvitter/spark-1.6.2'\n"
     ]
    }
   ],
   "source": [
    "# Import findspark to make possible for Python to locate the \n",
    "# spark executable using the SPARK_HOME environmental variable\n",
    "import findspark\n",
    "findspark.init()\n",
    "# Print the location of the spark version we are using\n",
    "print \"Using: '\" + findspark.find() + \"'\""
   ]
  },
  {
   "cell_type": "code",
   "execution_count": 2,
   "metadata": {
    "collapsed": true
   },
   "outputs": [],
   "source": [
    "# Import the Python API for Spark\n",
    "import pyspark\n",
    "from pyspark.sql import Row"
   ]
  },
  {
   "cell_type": "code",
   "execution_count": 3,
   "metadata": {
    "collapsed": false
   },
   "outputs": [
    {
     "name": "stdout",
     "output_type": "stream",
     "text": [
      "spark.app.name=pyspark-shell\n",
      "spark.master=local[*]\n",
      "spark.submit.deployMode=client\n"
     ]
    }
   ],
   "source": [
    "# Setup the Spark configuration\n",
    "conf = pyspark.SparkConf()\n",
    "print conf.toDebugString()"
   ]
  },
  {
   "cell_type": "code",
   "execution_count": 4,
   "metadata": {
    "collapsed": true
   },
   "outputs": [],
   "source": [
    "# Pass the configuration to the Spark context\n",
    "sc = pyspark.SparkContext(conf=conf)\n",
    "sqlContext = pyspark.SQLContext(sc)"
   ]
  },
  {
   "cell_type": "code",
   "execution_count": 6,
   "metadata": {
    "collapsed": false
   },
   "outputs": [
    {
     "name": "stdout",
     "output_type": "stream",
     "text": [
      "root\n",
      " |-- status: string (nullable = false)\n",
      " |-- extid: string (nullable = false)\n",
      " |-- ts: long (nullable = false)\n",
      " |-- avgMeasuredTime: long (nullable = false)\n",
      " |-- avgSpeed: long (nullable = false)\n",
      " |-- medianMeasuredTime: long (nullable = false)\n",
      " |-- vehicleCount: long (nullable = false)\n",
      "\n",
      "+------+-----+-------------+---------------+--------+------------------+------------+\n",
      "|status|extid|           ts|avgMeasuredTime|avgSpeed|medianMeasuredTime|vehicleCount|\n",
      "+------+-----+-------------+---------------+--------+------------------+------------+\n",
      "|    OK|  668|1392291000000|             66|      56|                66|           7|\n",
      "|    OK|  668|1392291300000|             69|      53|                69|           5|\n",
      "|    OK|  668|1392291600000|             69|      53|                69|           6|\n",
      "|    OK|  668|1392291900000|             70|      52|                70|           3|\n",
      "|    OK|  668|1392292200000|             64|      57|                64|           6|\n",
      "|    OK|  668|1392292500000|             75|      49|                75|           9|\n",
      "|    OK|  668|1392292800000|             73|      50|                73|          11|\n",
      "|    OK|  668|1392293100000|             59|      62|                59|           8|\n",
      "|    OK|  668|1392293400000|             61|      60|                61|          10|\n",
      "|    OK|  668|1392293700000|             63|      58|                63|          12|\n",
      "|    OK|  668|1392294000000|             62|      59|                62|          16|\n",
      "|    OK|  668|1392294300000|             62|      59|                62|          16|\n",
      "|    OK|  668|1392294600000|             59|      62|                59|           8|\n",
      "|    OK|  668|1392294900000|             67|      55|                67|           9|\n",
      "|    OK|  668|1392295200000|             65|      57|                65|           8|\n",
      "|    OK|  668|1392295500000|             60|      61|                60|           7|\n",
      "|    OK|  668|1392295800000|             61|      60|                61|          11|\n",
      "|    OK|  668|1392296100000|             58|      63|                58|           8|\n",
      "|    OK|  668|1392296400000|             70|      52|                70|           8|\n",
      "|    OK|  668|1392296700000|             61|      60|                61|           9|\n",
      "+------+-----+-------------+---------------+--------+------------------+------------+\n",
      "only showing top 20 rows\n",
      "\n"
     ]
    },
    {
     "data": {
      "text/plain": [
       "32059"
      ]
     },
     "execution_count": 6,
     "metadata": {},
     "output_type": "execute_result"
    }
   ],
   "source": [
    "# The table to query, and the filter to apply to the query\n",
    "table_name=\"aarhus\"\n",
    "query_filter = \"\"\"\n",
    "        ts > 1392290000000\n",
    "        AND ts <  1402292200000\n",
    "        AND status = 'OK'\n",
    "        AND extid = '668'\n",
    "\"\"\"\n",
    "\n",
    "# \n",
    "df = sqlContext.read \\\n",
    "    .format(\"org.apache.spark.sql.riak\") \\\n",
    "    .option(\"spark.riak.connection.host\", \"127.0.0.1:8087\") \\\n",
    "    .option(\"spark.riakts.bindings.timestamp\", \"useLong\") \\\n",
    "    .load(table_name) \\\n",
    "    .filter(query_filter) \n",
    "    \n",
    "# Output the fields and datatypes returned\n",
    "df.printSchema()\n",
    "\n",
    "# Output the first 20 rows of the dataset\n",
    "df.show()\n",
    "\n",
    "# Out count of records returned\n",
    "df.count()"
   ]
  },
  {
   "cell_type": "code",
   "execution_count": 7,
   "metadata": {
    "collapsed": false
   },
   "outputs": [
    {
     "name": "stdout",
     "output_type": "stream",
     "text": [
      "+-------------+------------+\n",
      "|           ts|vehicleCount|\n",
      "+-------------+------------+\n",
      "|1392291000000|           7|\n",
      "|1392291300000|           5|\n",
      "|1392291600000|           6|\n",
      "|1392291900000|           3|\n",
      "|1392292200000|           6|\n",
      "|1392292500000|           9|\n",
      "|1392292800000|          11|\n",
      "|1392293100000|           8|\n",
      "|1392293400000|          10|\n",
      "|1392293700000|          12|\n",
      "|1392294000000|          16|\n",
      "|1392294300000|          16|\n",
      "|1392294600000|           8|\n",
      "|1392294900000|           9|\n",
      "|1392295200000|           8|\n",
      "|1392295500000|           7|\n",
      "|1392295800000|          11|\n",
      "|1392296100000|           8|\n",
      "|1392296400000|           8|\n",
      "|1392296700000|           9|\n",
      "+-------------+------------+\n",
      "only showing top 20 rows\n",
      "\n"
     ]
    }
   ],
   "source": [
    "# Filter out all but the ts and vehicle count columns into rdd1 (the operation of filtering\n",
    "# returns an RDD from the Dataframe)\n",
    "rdd1 = df['ts','vehicleCount']\n",
    "rdd1.show()"
   ]
  },
  {
   "cell_type": "code",
   "execution_count": 8,
   "metadata": {
    "collapsed": false
   },
   "outputs": [
    {
     "name": "stdout",
     "output_type": "stream",
     "text": [
      "1 24015\n",
      "2 25442\n",
      "3 24672\n",
      "4 23556\n",
      "5 22627\n",
      "6 9465\n",
      "7 8265\n"
     ]
    }
   ],
   "source": [
    "# Import datetime and create a method that converts the timestamp\n",
    "# to the day of the week (1 - 7)\n",
    "from datetime import datetime\n",
    "def getDOW(row):\n",
    "    dt = datetime.fromtimestamp(row[0]/1000)\n",
    "    dow = dt.isoweekday()\n",
    "    return Row(dow, row[1])\n",
    "\n",
    "# Create rdd2 mapping the date values in rdd1 with the getDOW function\n",
    "rdd2 = rdd1.map(getDOW)\n",
    "\n",
    "# Convert the RDD to a Dataframe\n",
    "df2 = rdd2.toDF()\n",
    "\n",
    "# Perform a group by on the day of the week to get a count for each\n",
    "summary = df2.groupBy('_1').sum().collect()\n",
    "\n",
    "# Print out the days of the week with their respective counts\n",
    "for r in summary:\n",
    "    print r[0],r[2]"
   ]
  },
  {
   "cell_type": "code",
   "execution_count": null,
   "metadata": {
    "collapsed": true
   },
   "outputs": [],
   "source": [
    "import matplotlib as plt\n",
    "import pandas as pd\n",
    "%matplotlib inline"
   ]
  },
  {
   "cell_type": "code",
   "execution_count": null,
   "metadata": {
    "collapsed": false
   },
   "outputs": [],
   "source": [
    "# Convert the summary Dataframe to a Pandas Dataframe and\n",
    "# Visualize the data using matplotlib\n",
    "tdf = pd.DataFrame(summary)\n",
    "tdf.describe()\n",
    "ax=tdf.plot(x=0,y=2,figsize=(9,9),kind='bar')\n",
    "ax.set_ylabel('Total vehicle count', fontsize=18)\n",
    "ax.set_xlabel('Day of the week', fontsize=18)"
   ]
  },
  {
   "cell_type": "code",
   "execution_count": null,
   "metadata": {
    "collapsed": true
   },
   "outputs": [],
   "source": []
  }
 ],
 "metadata": {
  "kernelspec": {
   "display_name": "Python 2",
   "language": "python",
   "name": "python2"
  },
  "language_info": {
   "codemirror_mode": {
    "name": "ipython",
    "version": 2
   },
   "file_extension": ".py",
   "mimetype": "text/x-python",
   "name": "python",
   "nbconvert_exporter": "python",
   "pygments_lexer": "ipython2",
   "version": "2.7.11"
  }
 },
 "nbformat": 4,
 "nbformat_minor": 0
}
