{
 "cells": [
  {
   "cell_type": "code",
   "execution_count": 1,
   "metadata": {
    "collapsed": true
   },
   "outputs": [],
   "source": [
    "from riak import RiakClient"
   ]
  },
  {
   "cell_type": "code",
   "execution_count": 2,
   "metadata": {
    "collapsed": false
   },
   "outputs": [
    {
     "data": {
      "text/plain": [
       "True"
      ]
     },
     "execution_count": 2,
     "metadata": {},
     "output_type": "execute_result"
    }
   ],
   "source": [
    "client = RiakClient()\n",
    "client.ping()"
   ]
  },
  {
   "cell_type": "code",
   "execution_count": null,
   "metadata": {
    "collapsed": true
   },
   "outputs": [],
   "source": [
    "table_create = \"\"\"\n",
    "    CREATE TABLE aarhus (\n",
    "        status               varchar     not null,\n",
    "        extid                varchar     not null,\n",
    "        ts                   timestamp   not null,\n",
    "        avgMeasuredTime      sint64      not null,\n",
    "        avgSpeed             sint64      not null,\n",
    "        medianMeasuredTime   sint64      not null,\n",
    "        vehicleCount         sint64      not null,\n",
    "        PRIMARY KEY (\n",
    "            (status,extid,quantum(ts,30,'d')),\n",
    "             status,extid,ts\n",
    "        ))\n",
    "\"\"\"\n",
    "client.ts_query('aarhus', table_create)"
   ]
  },
  {
   "cell_type": "code",
   "execution_count": 3,
   "metadata": {
    "collapsed": false
   },
   "outputs": [
    {
     "name": "stdout",
     "output_type": "stream",
     "text": [
      "['status', 'varchar', False, 1, 1, None, None]\n",
      "['extid', 'varchar', False, 2, 2, None, None]\n",
      "['ts', 'timestamp', False, 3, 3, 30, 'd']\n",
      "['avgMeasuredTime', 'sint64', False, None, None, None, None]\n",
      "['avgSpeed', 'sint64', False, None, None, None, None]\n",
      "['medianMeasuredTime', 'sint64', False, None, None, None, None]\n",
      "['vehicleCount', 'sint64', False, None, None, None, None]\n"
     ]
    }
   ],
   "source": [
    "table = client.table('aarhus')\n",
    "to = table.describe()\n",
    "for r in to.rows:\n",
    "    print r"
   ]
  },
  {
   "cell_type": "code",
   "execution_count": null,
   "metadata": {
    "collapsed": true
   },
   "outputs": [],
   "source": []
  }
 ],
 "metadata": {
  "kernelspec": {
   "display_name": "Python 2",
   "language": "python",
   "name": "python2"
  },
  "language_info": {
   "codemirror_mode": {
    "name": "ipython",
    "version": 2
   },
   "file_extension": ".py",
   "mimetype": "text/x-python",
   "name": "python",
   "nbconvert_exporter": "python",
   "pygments_lexer": "ipython2",
   "version": "2.7.11"
  }
 },
 "nbformat": 4,
 "nbformat_minor": 0
}
