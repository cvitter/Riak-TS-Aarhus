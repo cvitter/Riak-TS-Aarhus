{
 "cells": [
  {
   "cell_type": "code",
   "execution_count": null,
   "metadata": {
    "collapsed": true
   },
   "outputs": [],
   "source": [
    "from riak import RiakClient"
   ]
  },
  {
   "cell_type": "code",
   "execution_count": null,
   "metadata": {
    "collapsed": false
   },
   "outputs": [],
   "source": [
    "client = RiakClient()\n",
    "client.ping()"
   ]
  },
  {
   "cell_type": "code",
   "execution_count": null,
   "metadata": {
    "collapsed": false
   },
   "outputs": [],
   "source": [
    "table_create = \"\"\"\n",
    "    CREATE TABLE aarhus (\n",
    "        status               varchar     not null,\n",
    "        extid                varchar     not null,\n",
    "        ts                   timestamp   not null,\n",
    "        avgMeasuredTime      sint64      not null,\n",
    "        avgSpeed             sint64      not null,\n",
    "        medianMeasuredTime   sint64      not null,\n",
    "        vehicleCount         sint64      not null,\n",
    "        PRIMARY KEY (\n",
    "            (status,extid,quantum(ts,30,'d')),\n",
    "             status,extid,ts\n",
    "        ))\n",
    "\"\"\"\n",
    "client.ts_query('aarhus', table_create)"
   ]
  },
  {
   "cell_type": "code",
   "execution_count": null,
   "metadata": {
    "collapsed": false
   },
   "outputs": [],
   "source": [
    "table = client.table('aarhus')\n",
    "to = table.describe()\n",
    "for r in to.rows:\n",
    "    print r"
   ]
  },
  {
   "cell_type": "code",
   "execution_count": null,
   "metadata": {
    "collapsed": true
   },
   "outputs": [],
   "source": []
  }
 ],
 "metadata": {
  "kernelspec": {
   "display_name": "Python 2",
   "language": "python",
   "name": "python2"
  },
  "language_info": {
   "codemirror_mode": {
    "name": "ipython",
    "version": 2
   },
   "file_extension": ".py",
   "mimetype": "text/x-python",
   "name": "python",
   "nbconvert_exporter": "python",
   "pygments_lexer": "ipython2",
   "version": "2.7.11"
  }
 },
 "nbformat": 4,
 "nbformat_minor": 0
}
