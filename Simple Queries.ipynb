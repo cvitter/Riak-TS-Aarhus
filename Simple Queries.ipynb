{
 "cells": [
  {
   "cell_type": "code",
   "execution_count": null,
   "metadata": {
    "collapsed": true
   },
   "outputs": [],
   "source": [
    "from riak import RiakClient"
   ]
  },
  {
   "cell_type": "code",
   "execution_count": null,
   "metadata": {
    "collapsed": false
   },
   "outputs": [],
   "source": [
    "client = RiakClient()"
   ]
  },
  {
   "cell_type": "code",
   "execution_count": null,
   "metadata": {
    "collapsed": false
   },
   "outputs": [],
   "source": [
    "query = \"\"\"\n",
    "SELECT * FROM aarhus WHERE ts > '2014-02-13 00:00:00' AND ts < '2014-04-12 23:59:59' AND\n",
    "    status = 'OK' AND extid= '668';\n",
    "\"\"\"\n",
    "print query"
   ]
  },
  {
   "cell_type": "code",
   "execution_count": null,
   "metadata": {
    "collapsed": false
   },
   "outputs": [],
   "source": [
    "ds = client.ts_query('aarhus', query)\n",
    "print ds.rows"
   ]
  },
  {
   "cell_type": "code",
   "execution_count": null,
   "metadata": {
    "collapsed": false
   },
   "outputs": [],
   "source": [
    "query = \"\"\"\n",
    "SELECT count(*) FROM aarhus WHERE ts > '2014-02-13 00:00:00' AND ts < '2014-04-12 23:59:59' AND\n",
    "    status = 'OK' AND extid= '668';\n",
    "\"\"\"\n",
    "print query\n",
    "ds = client.ts_query('aarhus', query)\n",
    "print ds.rows"
   ]
  },
  {
   "cell_type": "code",
   "execution_count": null,
   "metadata": {
    "collapsed": false
   },
   "outputs": [],
   "source": [
    "query = \"\"\"\n",
    "    SELECT max(avgSpeed), min(avgSpeed) FROM aarhus WHERE \n",
    "    ts > '2014-02-13 00:00:00' AND \n",
    "    ts < '2014-04-12 23:59:59' AND\n",
    "    status = 'OK' AND \n",
    "    extid= '668';\n",
    "\"\"\"\n",
    "ds = client.ts_query('aarhus', query)\n",
    "print ds.rows"
   ]
  },
  {
   "cell_type": "code",
   "execution_count": null,
   "metadata": {
    "collapsed": true
   },
   "outputs": [],
   "source": []
  }
 ],
 "metadata": {
  "kernelspec": {
   "display_name": "Python 2",
   "language": "python",
   "name": "python2"
  },
  "language_info": {
   "codemirror_mode": {
    "name": "ipython",
    "version": 2
   },
   "file_extension": ".py",
   "mimetype": "text/x-python",
   "name": "python",
   "nbconvert_exporter": "python",
   "pygments_lexer": "ipython2",
   "version": "2.7.11"
  }
 },
 "nbformat": 4,
 "nbformat_minor": 0
}
